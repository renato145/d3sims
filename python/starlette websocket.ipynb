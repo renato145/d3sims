{
 "cells": [
  {
   "cell_type": "code",
   "execution_count": 4,
   "metadata": {},
   "outputs": [],
   "source": [
    "from starlette.applications import Starlette\n",
    "from starlette.websockets import WebSocketDisconnect\n",
    "import uvicorn, asyncio, json\n",
    "import nest_asyncio\n",
    "nest_asyncio.apply()"
   ]
  },
  {
   "cell_type": "code",
   "execution_count": 13,
   "metadata": {
    "code_folding": [
     5,
     45
    ]
   },
   "outputs": [],
   "source": [
    "state = {'web_client': False, 'python_client': False}\n",
    "websocket_dict = {}\n",
    "\n",
    "app = Starlette()\n",
    "\n",
    "async def close_client(websocket, msg):\n",
    "    await websocket.send_json({'event': 'close', 'msg': msg})\n",
    "    await websocket.close()\n",
    "\n",
    "async def send_python_status(websocket=None, status=None):\n",
    "    if websocket is None:\n",
    "        if state['web_client']: websocket = websocket_dict['web_client']\n",
    "        else: return\n",
    "    if status is None: status = 'Online' if state['python_client'] else 'Offline'\n",
    "    await websocket.send_json({'event': 'pythonClientStatus', 'msg': status})\n",
    "\n",
    "async def handle_web_client(websocket):\n",
    "    while True:\n",
    "        try:\n",
    "            await send_python_status(websocket)\n",
    "            msg = await websocket.receive_json()\n",
    "#             if msg['event'] == 'getPythonClientStatus':\n",
    "#                 await send_python_status(websocket)\n",
    "#             else:\n",
    "#                 print(f'Invalid event: ({msg[\"event\"]!r}).')\n",
    "        except json.JSONDecodeError: print('Invalid JSON')\n",
    "        except WebSocketDisconnect: break\n",
    "        \n",
    "async def handle_python_client(websocket):\n",
    "    await send_python_status()\n",
    "    while True:\n",
    "        try:\n",
    "            msg = await websocket.receive_json()\n",
    "            await websocket_dict['web_client'].send_json(msg)\n",
    "        except json.JSONDecodeError: print('Invalid JSON')\n",
    "        except WebSocketDisconnect:\n",
    "            await send_python_status(status='Offline')\n",
    "            break\n",
    "\n",
    "func_dict = {'web_client': handle_web_client, 'python_client': handle_python_client}\n",
    "\n",
    "@app.websocket_route('/ws')\n",
    "async def websocket_endpoint(websocket):\n",
    "    await websocket.accept()\n",
    "    msg = await websocket.receive_json()\n",
    "    client_type = msg['client']\n",
    "    if client_type not in state:\n",
    "        await close_client(websocket, f'Invalid client_type ({client_type!r})')\n",
    "        return\n",
    "    if state[client_type]:\n",
    "        await close_client(websocket, 'Client already connected')\n",
    "        return\n",
    "    \n",
    "    state[client_type] = True\n",
    "    websocket_dict[client_type] = websocket\n",
    "    await func_dict[client_type](websocket)\n",
    "    \n",
    "    # Close socket\n",
    "    state[client_type] = False\n",
    "    websocket_dict.pop(client_type)\n",
    "    await close_client(websocket, 'Finalized by server')"
   ]
  },
  {
   "cell_type": "code",
   "execution_count": null,
   "metadata": {},
   "outputs": [],
   "source": [
    "uvicorn.run(app, host='0.0.0.0', port=8000)"
   ]
  },
  {
   "cell_type": "code",
   "execution_count": 5,
   "metadata": {},
   "outputs": [],
   "source": [
    "from starlette.websockets import WebSocket"
   ]
  },
  {
   "cell_type": "code",
   "execution_count": 37,
   "metadata": {},
   "outputs": [],
   "source": [
    "WebSocket.sen"
   ]
  },
  {
   "cell_type": "code",
   "execution_count": null,
   "metadata": {},
   "outputs": [],
   "source": []
  },
  {
   "cell_type": "code",
   "execution_count": null,
   "metadata": {},
   "outputs": [],
   "source": []
  },
  {
   "cell_type": "code",
   "execution_count": null,
   "metadata": {},
   "outputs": [],
   "source": []
  },
  {
   "cell_type": "code",
   "execution_count": null,
   "metadata": {},
   "outputs": [],
   "source": []
  },
  {
   "cell_type": "code",
   "execution_count": null,
   "metadata": {},
   "outputs": [],
   "source": []
  },
  {
   "cell_type": "code",
   "execution_count": null,
   "metadata": {},
   "outputs": [],
   "source": []
  }
 ],
 "metadata": {
  "kernelspec": {
   "display_name": "Python 3",
   "language": "python",
   "name": "python3"
  },
  "language_info": {
   "codemirror_mode": {
    "name": "ipython",
    "version": 3
   },
   "file_extension": ".py",
   "mimetype": "text/x-python",
   "name": "python",
   "nbconvert_exporter": "python",
   "pygments_lexer": "ipython3",
   "version": "3.7.5"
  },
  "toc": {
   "base_numbering": 1,
   "nav_menu": {},
   "number_sections": true,
   "sideBar": true,
   "skip_h1_title": false,
   "title_cell": "Table of Contents",
   "title_sidebar": "Contents",
   "toc_cell": false,
   "toc_position": {},
   "toc_section_display": true,
   "toc_window_display": false
  }
 },
 "nbformat": 4,
 "nbformat_minor": 2
}
