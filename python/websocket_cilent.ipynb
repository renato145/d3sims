{
 "cells": [
  {
   "cell_type": "code",
   "execution_count": 1,
   "metadata": {},
   "outputs": [],
   "source": [
    "import websockets, asyncio, json\n",
    "import nest_asyncio\n",
    "nest_asyncio.apply()"
   ]
  },
  {
   "cell_type": "code",
   "execution_count": 2,
   "metadata": {},
   "outputs": [],
   "source": [
    "loop = asyncio.get_event_loop()"
   ]
  },
  {
   "cell_type": "code",
   "execution_count": 3,
   "metadata": {},
   "outputs": [],
   "source": [
    "async def example():\n",
    "    uri = 'ws://localhost:8000/ws'\n",
    "    async with websockets.connect(uri) as websocket:\n",
    "        await websocket.send(json.dumps({'client': 'python_client'}))\n",
    "        await websocket.send(json.dumps({'event': 'setBatteryLevel', 'msg': 100}))\n",
    "        await websocket.send(json.dumps({'event': 'setBulbState', 'msg': False}))\n",
    "        await asyncio.sleep(1)\n",
    "        await websocket.send(json.dumps({'event': 'flipBulb', 'msg': ''}))\n",
    "        await asyncio.sleep(1)\n",
    "        await websocket.send(json.dumps({'event': 'setBatteryLevel', 'msg': 60}))\n",
    "        await asyncio.sleep(1)\n",
    "        await websocket.send(json.dumps({'event': 'setBatteryLevel', 'msg': 40}))\n",
    "        await asyncio.sleep(1)\n",
    "        await websocket.send(json.dumps({'event': 'flipBulb', 'msg': ''}))\n",
    "#         txt = await websocket.recv()\n",
    "#         print(f'Server> {txt}')"
   ]
  },
  {
   "cell_type": "code",
   "execution_count": 5,
   "metadata": {},
   "outputs": [],
   "source": [
    "loop.run_until_complete(example())"
   ]
  },
  {
   "cell_type": "code",
   "execution_count": null,
   "metadata": {},
   "outputs": [],
   "source": []
  },
  {
   "cell_type": "code",
   "execution_count": null,
   "metadata": {},
   "outputs": [],
   "source": []
  },
  {
   "cell_type": "code",
   "execution_count": null,
   "metadata": {},
   "outputs": [],
   "source": []
  },
  {
   "cell_type": "code",
   "execution_count": null,
   "metadata": {},
   "outputs": [],
   "source": []
  }
 ],
 "metadata": {
  "kernelspec": {
   "display_name": "Python 3",
   "language": "python",
   "name": "python3"
  },
  "language_info": {
   "codemirror_mode": {
    "name": "ipython",
    "version": 3
   },
   "file_extension": ".py",
   "mimetype": "text/x-python",
   "name": "python",
   "nbconvert_exporter": "python",
   "pygments_lexer": "ipython3",
   "version": "3.7.5"
  },
  "toc": {
   "base_numbering": 1,
   "nav_menu": {},
   "number_sections": true,
   "sideBar": true,
   "skip_h1_title": false,
   "title_cell": "Table of Contents",
   "title_sidebar": "Contents",
   "toc_cell": false,
   "toc_position": {},
   "toc_section_display": true,
   "toc_window_display": false
  }
 },
 "nbformat": 4,
 "nbformat_minor": 2
}
